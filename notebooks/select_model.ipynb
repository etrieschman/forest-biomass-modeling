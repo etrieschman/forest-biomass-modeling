{
 "cells": [
  {
   "cell_type": "code",
   "execution_count": 100,
   "id": "fd19e7bd-bffc-40e1-b3be-88f82cafcd56",
   "metadata": {},
   "outputs": [
    {
     "name": "stdout",
     "output_type": "stream",
     "text": [
      "The autoreload extension is already loaded. To reload it, use:\n",
      "  %reload_ext autoreload\n"
     ]
    }
   ],
   "source": [
    "from pathlib import Path\n",
    "import pandas as pd\n",
    "import geopandas as gpd\n",
    "import numpy as np\n",
    "import matplotlib as matplotlib\n",
    "import matplotlib.pyplot as plt\n",
    "\n",
    "import statsmodels.api as sm\n",
    "import scipy.stats as sps\n",
    "\n",
    "from sklearn.preprocessing import StandardScaler\n",
    "from sklearn.model_selection import train_test_split, GridSearchCV, GroupKFold, LeaveOneGroupOut, PredefinedSplit, cross_val_predict\n",
    "from sklearn.linear_model import LinearRegression, Lasso, ElasticNet, lasso_path\n",
    "from sklearn.dummy import DummyRegressor\n",
    "from sklearn.tree import DecisionTreeRegressor\n",
    "from sklearn.ensemble import AdaBoostRegressor, RandomForestRegressor\n",
    "from sklearn.neural_network import MLPRegressor\n",
    "from sklearn.metrics import mean_absolute_error, mean_squared_error, r2_score\n",
    "\n",
    "from xgboost import XGBRegressor\n",
    "\n",
    "pd.options.mode.chained_assignment = None  # default='warn'\n",
    "%load_ext autoreload\n",
    "%autoreload 2"
   ]
  },
  {
   "cell_type": "code",
   "execution_count": 2,
   "id": "eb54efd8-c3bb-4e28-8ec3-abbb85926de2",
   "metadata": {},
   "outputs": [],
   "source": [
    "from utils import DATA_PATH, DATA_CLEAN_PATH, RESULTS_PATH\n",
    "from utils import set_plt_settings, GEO_CRS\n",
    "from train_functions import scoring_default, run_cv\n",
    "\n",
    "set_plt_settings()\n",
    "write_mode = True"
   ]
  },
  {
   "cell_type": "markdown",
   "id": "84c3daca-c29e-44a6-966e-a7d8623e769c",
   "metadata": {},
   "source": [
    "## Make analytic datasets"
   ]
  },
  {
   "cell_type": "code",
   "execution_count": 3,
   "id": "6bf69d99-621c-41de-8688-56525d499ace",
   "metadata": {},
   "outputs": [],
   "source": [
    "# read in\n",
    "df = pd.read_csv(DATA_CLEAN_PATH / 'analysis_df.csv')\n",
    "\n",
    "# make target and features\n",
    "X = df.loc[:, [col for col in df.columns if col.startswith(('ndvi', 'lst'))]]\n",
    "y = (df.total / df.area_km).to_numpy() # short tons per km^2\n",
    "g_county = df.countyfp.to_numpy()\n",
    "g_state = df.statefp.to_numpy()\n",
    "g_report = df.report.to_numpy()\n",
    "\n",
    "# scale features\n",
    "scaler = StandardScaler(copy=True, with_mean=True, with_std=True)\n",
    "scaler.fit(X)\n",
    "X_scaled = pd.DataFrame(scaler.transform(X), columns=X.columns)"
   ]
  },
  {
   "cell_type": "markdown",
   "id": "e27deb54-b6fb-4070-ad5e-d95635db8bb8",
   "metadata": {},
   "source": [
    "## Generate hold-out test data and splitters"
   ]
  },
  {
   "cell_type": "code",
   "execution_count": 4,
   "id": "d7da03e3-fbbe-4e22-b013-6d65d8ad4fd6",
   "metadata": {},
   "outputs": [
    {
     "name": "stdout",
     "output_type": "stream",
     "text": [
      "county test set percent: 0.1\n",
      "test states: ['Alabama' 'Minnesota' 'Ohio' 'Wisconsin']\n",
      "state test set percent: 0.12928571428571428\n",
      "report test set percent: 0.32071428571428573\n"
     ]
    }
   ],
   "source": [
    "# county kfold\n",
    "idx_train, idx_test = train_test_split(range(len(y)), test_size=0.10, random_state=1, shuffle=True, stratify=None)\n",
    "\n",
    "df_county_train, df_county_test = df.loc[idx_train], df.loc[idx_test]\n",
    "X_county_train, X_county_test = X.loc[idx_train], X.loc[idx_test]\n",
    "y_county_train, y_county_test = y[idx_train], y[idx_test]\n",
    "g_county_train = g_county[idx_train]\n",
    "print('county test set percent:', len(y_county_test) / len(y))\n",
    "\n",
    "# state LOO\n",
    "np.random.seed(123456)\n",
    "test_states = np.unique(np.random.choice(df.state, 5))\n",
    "idx_train, idx_test = df.loc[~df.state.isin(test_states)].index, df.loc[df.state.isin(test_states)].index\n",
    "\n",
    "df_state_train, df_state_test = df.loc[idx_train], df.loc[idx_test]\n",
    "X_state_train, X_state_test = X.loc[idx_train], X.loc[idx_test]\n",
    "y_state_train, y_state_test = y[idx_train], y[idx_test]\n",
    "g_state_train = g_state[idx_train]\n",
    "print('test states:', test_states)\n",
    "print('state test set percent:', len(y_state_test) / len(y))\n",
    "\n",
    "# last report\n",
    "idx_train, idx_test = df.loc[~df.last_report].index, df.loc[df.last_report].index\n",
    "\n",
    "df_report_train, df_report_test = df.loc[idx_train], df.loc[idx_test]\n",
    "X_report_train, X_report_test = X.loc[idx_train], X.loc[idx_test]\n",
    "y_report_train, y_report_test = y[idx_train], y[idx_test]\n",
    "g_report_train = g_report[idx_train]\n",
    "print('report test set percent:', len(y_report_test) / len(y))"
   ]
  },
  {
   "cell_type": "code",
   "execution_count": 5,
   "id": "c800053d-0045-4603-89fc-63fcbfce437e",
   "metadata": {},
   "outputs": [
    {
     "data": {
      "text/plain": [
       "'r2'"
      ]
     },
     "execution_count": 5,
     "metadata": {},
     "output_type": "execute_result"
    }
   ],
   "source": [
    "# define splitters\n",
    "splitter_countyKFold = GroupKFold(5)\n",
    "splitter_stateLOO = LeaveOneGroupOut()\n",
    "splitter_lastReport = LeaveOneGroupOut()\n",
    "scoring_report = scoring_default.copy()\n",
    "scoring_report.pop('r_squared')"
   ]
  },
  {
   "cell_type": "code",
   "execution_count": 108,
   "id": "c229fcbc-dba3-4673-80f5-a5121943f603",
   "metadata": {},
   "outputs": [
    {
     "name": "stdout",
     "output_type": "stream",
     "text": [
      "set settings for countyKFold with GroupKFold(n_splits=5) and {'neg_root_mean_squared_error': 'neg_root_mean_squared_error', 'neg_mean_absolute_error': 'neg_mean_absolute_error', 'r_squared': 'r2'}\n"
     ]
    }
   ],
   "source": [
    "# set parameters for training and evaluation\n",
    "split_name = 'countyKFold'\n",
    "\n",
    "if split_name == 'countyKFold':\n",
    "    splitter, groups, scoring = splitter_countyKFold, g_county_train, scoring_default\n",
    "    df_train, df_test = df_county_train, df_county_test\n",
    "    X_train, X_test = X_county_train, X_county_test\n",
    "    y_train, y_test = y_county_train, y_county_test\n",
    "    params_enet={'alpha':[1000], 'l1_ratio':[0.9]} # county\n",
    "    params_dt={'min_samples_leaf': [10], 'max_depth': [10]} # county\n",
    "    params_rf={'min_samples_leaf': [2], 'max_depth': [None]} # county\n",
    "    params_xgb={'reg_alpha':[0.1], 'reg_lambda':[90], 'tree_method':['hist']} # county\n",
    "    params_fcnet={'hidden_layer_sizes': [(4000, 1000)]} # county\n",
    "    \n",
    "elif split_name == 'stateLOO':\n",
    "    splitter, groups, scoring = splitter_stateLOO, g_state_train, scoring_default\n",
    "    df_train, df_test = df_state_train, df_state_test\n",
    "    X_train, X_test = X_state_train, X_state_test\n",
    "    y_train, y_test = y_state_train, y_state_test\n",
    "    params_enet={'alpha':[3600], 'l1_ratio':[0.95]} # state\n",
    "    params_dt={'min_samples_leaf': [8], 'max_depth': [10]} # state\n",
    "    params_rf={'min_samples_leaf': [2], 'max_depth': [50]} # state\n",
    "    params_xgb={'reg_alpha':[10], 'reg_lambda':[10], 'tree_method':['approx']} # state\n",
    "    params_fcnet={'hidden_layer_sizes': [(1000)]} # state\n",
    "    \n",
    "elif split_name == 'lastReport':\n",
    "    splitter, groups, scoring = splitter_lastReport, g_report_train, scoring_default\n",
    "    df_train, df_test = df_report_train, df_report_test\n",
    "    X_train, X_test = X_report_train, X_report_test\n",
    "    y_train, y_test = y_report_train, y_report_test\n",
    "    params_enet={'alpha':[1000], 'l1_ratio':[0.9]} # report\n",
    "    params_dt={'min_samples_leaf': [10], 'max_depth': [9]} # report\n",
    "    params_rf={'min_samples_leaf': [1], 'max_depth': [None]} # report\n",
    "    params_xgb={'reg_alpha':[1], 'reg_lambda':[1], 'tree_method':['approx']} # report\n",
    "    params_fcnet={'hidden_layer_sizes': [(4000)]} # report\n",
    "    \n",
    "print(f'set settings for {split_name} with {splitter} and {scoring}')"
   ]
  },
  {
   "cell_type": "markdown",
   "id": "1185c978-a3d9-46d1-9416-65a33468241a",
   "metadata": {},
   "source": [
    "## Cross validate contending models"
   ]
  },
  {
   "cell_type": "code",
   "execution_count": 82,
   "id": "04b1fe6e-b7d5-4342-8ecd-691f0d2b2dc2",
   "metadata": {},
   "outputs": [
    {
     "name": "stdout",
     "output_type": "stream",
     "text": [
      "Fitting 44 folds for each of 1 candidates, totalling 44 fits\n"
     ]
    },
    {
     "data": {
      "text/plain": [
       "model     DummyRegressor()\n",
       "params                  {}\n",
       "rmse           4630.308813\n",
       "mae            4040.330396\n",
       "r_sq            -29.384309\n",
       "Name: 0, dtype: object"
      ]
     },
     "execution_count": 82,
     "metadata": {},
     "output_type": "execute_result"
    }
   ],
   "source": [
    "# dummy regressor\n",
    "params={}\n",
    "cv_mean = run_cv(X=X_train, y=y_train, estimator=DummyRegressor(), params=params, scoring=scoring, cv=splitter, groups=groups)\n",
    "cv_mean['min']"
   ]
  },
  {
   "cell_type": "code",
   "execution_count": 83,
   "id": "69487da3-c2a6-40e9-9e40-dd81d0f2db2f",
   "metadata": {},
   "outputs": [
    {
     "name": "stdout",
     "output_type": "stream",
     "text": [
      "Fitting 44 folds for each of 1 candidates, totalling 44 fits\n"
     ]
    },
    {
     "data": {
      "text/plain": [
       "model     LinearRegression()\n",
       "params                    {}\n",
       "rmse             2255.098443\n",
       "mae              1768.548251\n",
       "r_sq               -2.367332\n",
       "Name: 0, dtype: object"
      ]
     },
     "execution_count": 83,
     "metadata": {},
     "output_type": "execute_result"
    }
   ],
   "source": [
    "# linear regression\n",
    "params={}\n",
    "cv_lm = run_cv(X=X_train, y=y_train, estimator=LinearRegression(), params=params, scoring=scoring, cv=splitter, groups=groups)\n",
    "cv_lm['min']"
   ]
  },
  {
   "cell_type": "code",
   "execution_count": 84,
   "id": "86d369b4-912a-4aba-adb7-3dc419b975a0",
   "metadata": {},
   "outputs": [
    {
     "name": "stdout",
     "output_type": "stream",
     "text": [
      "Fitting 44 folds for each of 1 candidates, totalling 44 fits\n"
     ]
    },
    {
     "data": {
      "text/plain": [
       "model                          ElasticNet()\n",
       "params    {'alpha': 3600, 'l1_ratio': 0.95}\n",
       "rmse                             2444.80062\n",
       "mae                             1933.843879\n",
       "r_sq                              -6.697469\n",
       "Name: 0, dtype: object"
      ]
     },
     "execution_count": 84,
     "metadata": {},
     "output_type": "execute_result"
    }
   ],
   "source": [
    "# Elastic Net\n",
    "# params={'alpha':[j*(10**i) for i in range(3, 5) for j in range(1, 9)], 'l1_ratio':[0.1, 0.25, 0.5, 0.9]}\n",
    "cv_enet = run_cv(X=X_train, y=y_train, estimator=ElasticNet(), params=params_enet, scoring=scoring, cv=splitter, groups=groups)\n",
    "cv_enet['min']"
   ]
  },
  {
   "cell_type": "code",
   "execution_count": 85,
   "id": "d6b9e185-9984-47c8-a1c1-c017b5cd19b2",
   "metadata": {},
   "outputs": [
    {
     "name": "stdout",
     "output_type": "stream",
     "text": [
      "Fitting 44 folds for each of 1 candidates, totalling 44 fits\n"
     ]
    },
    {
     "data": {
      "text/plain": [
       "model                      DecisionTreeRegressor()\n",
       "params    {'max_depth': 10, 'min_samples_leaf': 8}\n",
       "rmse                                   1999.748013\n",
       "mae                                    1485.874296\n",
       "r_sq                                     -0.934683\n",
       "Name: 0, dtype: object"
      ]
     },
     "execution_count": 85,
     "metadata": {},
     "output_type": "execute_result"
    }
   ],
   "source": [
    "# decision tree regression\n",
    "# params={'min_samples_leaf': [8, 10, 12], 'max_depth': [10, 20, 30]} # 10 10\n",
    "cv_dt = run_cv(X=X_train, y=y_train, estimator=DecisionTreeRegressor(), params=params_dt, scoring=scoring, cv=splitter, groups=groups)\n",
    "cv_dt['min']"
   ]
  },
  {
   "cell_type": "code",
   "execution_count": 86,
   "id": "46ed0455-72c1-4339-916a-07873056c163",
   "metadata": {},
   "outputs": [
    {
     "name": "stdout",
     "output_type": "stream",
     "text": [
      "Fitting 44 folds for each of 1 candidates, totalling 44 fits\n"
     ]
    },
    {
     "data": {
      "text/plain": [
       "model     XGBRegressor(base_score=None, booster=None, ca...\n",
       "params    {'reg_alpha': 10, 'reg_lambda': 10, 'tree_meth...\n",
       "rmse                                            1691.552988\n",
       "mae                                             1284.281212\n",
       "r_sq                                              -0.711811\n",
       "Name: 0, dtype: object"
      ]
     },
     "execution_count": 86,
     "metadata": {},
     "output_type": "execute_result"
    }
   ],
   "source": [
    "# xgboost regression\n",
    "# params={'reg_alpha':[.01, .1, 1, 10, 100], 'reg_lambda':[0.1, .1, 1, 10, 100], 'tree_method':['approx', 'hist']} # .1, 100 hist\n",
    "cv_xgb = run_cv(X=X_train, y=y_train, estimator=XGBRegressor(objective=\"reg:squarederror\"), params=params_xgb, scoring=scoring, cv=splitter, groups=groups)\n",
    "cv_xgb['min']"
   ]
  },
  {
   "cell_type": "code",
   "execution_count": 87,
   "id": "b118f6dd-5c3f-42da-ac4e-c5d5a231edf2",
   "metadata": {
    "tags": []
   },
   "outputs": [
    {
     "name": "stdout",
     "output_type": "stream",
     "text": [
      "Fitting 44 folds for each of 1 candidates, totalling 44 fits\n"
     ]
    },
    {
     "data": {
      "text/plain": [
       "model                      RandomForestRegressor()\n",
       "params    {'max_depth': 50, 'min_samples_leaf': 2}\n",
       "rmse                                   1621.441232\n",
       "mae                                    1227.167631\n",
       "r_sq                                     -0.739369\n",
       "Name: 0, dtype: object"
      ]
     },
     "execution_count": 87,
     "metadata": {},
     "output_type": "execute_result"
    }
   ],
   "source": [
    "# random forest regression\n",
    "# params={'min_samples_leaf': [2, 5, 8], 'max_depth': [None, 100, 50]} # \n",
    "cv_rf = run_cv(X=X_train, y=y_train, estimator=RandomForestRegressor(), params=params_rf, scoring=scoring, cv=splitter, groups=groups)\n",
    "cv_rf['min']"
   ]
  },
  {
   "cell_type": "code",
   "execution_count": 14,
   "id": "0a08c725-9a1f-4beb-bc97-b57a06549323",
   "metadata": {
    "tags": []
   },
   "outputs": [
    {
     "name": "stdout",
     "output_type": "stream",
     "text": [
      "Fitting 5 folds for each of 1 candidates, totalling 5 fits\n"
     ]
    },
    {
     "name": "stderr",
     "output_type": "stream",
     "text": [
      "/Users/etriesch/dev/forest-biomass-modeling/venv/forest-biomass-modeling/lib/python3.9/site-packages/sklearn/neural_network/_multilayer_perceptron.py:709: UserWarning: Training interrupted by user.\n",
      "  warnings.warn(\"Training interrupted by user.\")\n",
      "\n",
      "KeyboardInterrupt\n",
      "\n"
     ]
    }
   ],
   "source": [
    "# N-layer fully connected neural net\n",
    "cv_fcnet = run_cv(X=X_train, y=y_train, estimator=MLPRegressor(), params=params_fcnet, scoring=scoring, cv=splitter, groups=groups)\n",
    "cv_fcnet['min']"
   ]
  },
  {
   "cell_type": "markdown",
   "id": "e90ab5c2-f633-458e-8299-85cdf1e07ba3",
   "metadata": {},
   "source": [
    "## Summarize and save"
   ]
  },
  {
   "cell_type": "code",
   "execution_count": 88,
   "id": "6a1e27bc-d155-4617-8758-f618cd1c335a",
   "metadata": {},
   "outputs": [],
   "source": [
    "# All results (for the records)\n",
    "# setup\n",
    "key='all'\n",
    "filename = f'cv_{key}_{split_name}.csv'\n",
    "filepath = RESULTS_PATH / filename\n",
    "filepath.parent.mkdir(parents=True, exist_ok=True)\n",
    "# make and save\n",
    "cv_all = pd.concat((cv_mean[key], cv_lm[key], cv_enet[key], cv_dt[key], cv_rf[key], cv_xgb[key] \n",
    "#                     ,cv_fcnet[key]\n",
    "                  ))\n",
    "if write_mode:\n",
    "    cv_all.to_csv(filepath, index=False)\n",
    "\n",
    "# min results\n",
    "# setup\n",
    "key='min'\n",
    "filename = f'cv_{key}_{split_name}.csv'\n",
    "filepath = RESULTS_PATH / filename\n",
    "filepath.parent.mkdir(parents=True, exist_ok=True)\n",
    "# make and save\n",
    "cv_min = pd.DataFrame((cv_mean[key], cv_lm[key], cv_enet[key], cv_dt[key], cv_rf[key], cv_xgb[key] \n",
    "#                        ,cv_fcnet[key]\n",
    "                     ))\n",
    "if write_mode:\n",
    "    cv_min.to_csv(filepath, index=False)"
   ]
  },
  {
   "cell_type": "code",
   "execution_count": 89,
   "id": "b7ab0560-babd-4c48-b329-de2301530483",
   "metadata": {},
   "outputs": [
    {
     "data": {
      "text/html": [
       "<div>\n",
       "<style scoped>\n",
       "    .dataframe tbody tr th:only-of-type {\n",
       "        vertical-align: middle;\n",
       "    }\n",
       "\n",
       "    .dataframe tbody tr th {\n",
       "        vertical-align: top;\n",
       "    }\n",
       "\n",
       "    .dataframe thead th {\n",
       "        text-align: right;\n",
       "    }\n",
       "</style>\n",
       "<table border=\"1\" class=\"dataframe\">\n",
       "  <thead>\n",
       "    <tr style=\"text-align: right;\">\n",
       "      <th></th>\n",
       "      <th>model</th>\n",
       "      <th>params</th>\n",
       "      <th>rmse</th>\n",
       "      <th>mae</th>\n",
       "      <th>r_sq</th>\n",
       "    </tr>\n",
       "  </thead>\n",
       "  <tbody>\n",
       "    <tr>\n",
       "      <th>0</th>\n",
       "      <td>DummyRegressor()</td>\n",
       "      <td>{}</td>\n",
       "      <td>4630.308813</td>\n",
       "      <td>4040.330396</td>\n",
       "      <td>-29.384309</td>\n",
       "    </tr>\n",
       "    <tr>\n",
       "      <th>0</th>\n",
       "      <td>LinearRegression()</td>\n",
       "      <td>{}</td>\n",
       "      <td>2255.098443</td>\n",
       "      <td>1768.548251</td>\n",
       "      <td>-2.367332</td>\n",
       "    </tr>\n",
       "    <tr>\n",
       "      <th>0</th>\n",
       "      <td>ElasticNet()</td>\n",
       "      <td>{'alpha': 3600, 'l1_ratio': 0.95}</td>\n",
       "      <td>2444.800620</td>\n",
       "      <td>1933.843879</td>\n",
       "      <td>-6.697469</td>\n",
       "    </tr>\n",
       "    <tr>\n",
       "      <th>0</th>\n",
       "      <td>DecisionTreeRegressor()</td>\n",
       "      <td>{'max_depth': 10, 'min_samples_leaf': 8}</td>\n",
       "      <td>1999.748013</td>\n",
       "      <td>1485.874296</td>\n",
       "      <td>-0.934683</td>\n",
       "    </tr>\n",
       "    <tr>\n",
       "      <th>0</th>\n",
       "      <td>RandomForestRegressor()</td>\n",
       "      <td>{'max_depth': 50, 'min_samples_leaf': 2}</td>\n",
       "      <td>1621.441232</td>\n",
       "      <td>1227.167631</td>\n",
       "      <td>-0.739369</td>\n",
       "    </tr>\n",
       "    <tr>\n",
       "      <th>0</th>\n",
       "      <td>XGBRegressor(base_score=None, booster=None, ca...</td>\n",
       "      <td>{'reg_alpha': 10, 'reg_lambda': 10, 'tree_meth...</td>\n",
       "      <td>1691.552988</td>\n",
       "      <td>1284.281212</td>\n",
       "      <td>-0.711811</td>\n",
       "    </tr>\n",
       "  </tbody>\n",
       "</table>\n",
       "</div>"
      ],
      "text/plain": [
       "                                               model  \\\n",
       "0                                   DummyRegressor()   \n",
       "0                                 LinearRegression()   \n",
       "0                                       ElasticNet()   \n",
       "0                            DecisionTreeRegressor()   \n",
       "0                            RandomForestRegressor()   \n",
       "0  XGBRegressor(base_score=None, booster=None, ca...   \n",
       "\n",
       "                                              params         rmse  \\\n",
       "0                                                 {}  4630.308813   \n",
       "0                                                 {}  2255.098443   \n",
       "0                  {'alpha': 3600, 'l1_ratio': 0.95}  2444.800620   \n",
       "0           {'max_depth': 10, 'min_samples_leaf': 8}  1999.748013   \n",
       "0           {'max_depth': 50, 'min_samples_leaf': 2}  1621.441232   \n",
       "0  {'reg_alpha': 10, 'reg_lambda': 10, 'tree_meth...  1691.552988   \n",
       "\n",
       "           mae       r_sq  \n",
       "0  4040.330396 -29.384309  \n",
       "0  1768.548251  -2.367332  \n",
       "0  1933.843879  -6.697469  \n",
       "0  1485.874296  -0.934683  \n",
       "0  1227.167631  -0.739369  \n",
       "0  1284.281212  -0.711811  "
      ]
     },
     "execution_count": 89,
     "metadata": {},
     "output_type": "execute_result"
    }
   ],
   "source": [
    "cv_min"
   ]
  },
  {
   "cell_type": "markdown",
   "id": "cb929670-8fcd-4527-abb3-1feb5a0c8f12",
   "metadata": {},
   "source": [
    "# Final summary table"
   ]
  },
  {
   "cell_type": "code",
   "execution_count": 90,
   "id": "4d3f616b-4424-4cfd-9fd0-0b0a8e957b50",
   "metadata": {},
   "outputs": [
    {
     "data": {
      "text/html": [
       "<div>\n",
       "<style scoped>\n",
       "    .dataframe tbody tr th:only-of-type {\n",
       "        vertical-align: middle;\n",
       "    }\n",
       "\n",
       "    .dataframe tbody tr th {\n",
       "        vertical-align: top;\n",
       "    }\n",
       "\n",
       "    .dataframe thead th {\n",
       "        text-align: right;\n",
       "    }\n",
       "</style>\n",
       "<table border=\"1\" class=\"dataframe\">\n",
       "  <thead>\n",
       "    <tr style=\"text-align: right;\">\n",
       "      <th></th>\n",
       "      <th>split</th>\n",
       "      <th>model</th>\n",
       "      <th>params</th>\n",
       "      <th>rmse</th>\n",
       "      <th>mae</th>\n",
       "      <th>r_sq</th>\n",
       "    </tr>\n",
       "  </thead>\n",
       "  <tbody>\n",
       "    <tr>\n",
       "      <th>0</th>\n",
       "      <td>lastReport</td>\n",
       "      <td>DummyRegressor()</td>\n",
       "      <td>{}</td>\n",
       "      <td>3880.42</td>\n",
       "      <td>3234.15</td>\n",
       "      <td>-0.19</td>\n",
       "    </tr>\n",
       "    <tr>\n",
       "      <th>1</th>\n",
       "      <td>lastReport</td>\n",
       "      <td>LinearRegression()</td>\n",
       "      <td>{}</td>\n",
       "      <td>1874.07</td>\n",
       "      <td>1397.22</td>\n",
       "      <td>0.73</td>\n",
       "    </tr>\n",
       "    <tr>\n",
       "      <th>2</th>\n",
       "      <td>lastReport</td>\n",
       "      <td>ElasticNet()</td>\n",
       "      <td>{'alpha': 1000, 'l1_ratio': 0.9}</td>\n",
       "      <td>2006.74</td>\n",
       "      <td>1513.82</td>\n",
       "      <td>0.69</td>\n",
       "    </tr>\n",
       "    <tr>\n",
       "      <th>3</th>\n",
       "      <td>lastReport</td>\n",
       "      <td>DecisionTreeRegressor()</td>\n",
       "      <td>{'max_depth': 9, 'min_samples_leaf': 10}</td>\n",
       "      <td>1773.12</td>\n",
       "      <td>1113.92</td>\n",
       "      <td>0.77</td>\n",
       "    </tr>\n",
       "    <tr>\n",
       "      <th>4</th>\n",
       "      <td>lastReport</td>\n",
       "      <td>RandomForestRegressor()</td>\n",
       "      <td>{'max_depth': None, 'min_samples_leaf': 1}</td>\n",
       "      <td>1474.71</td>\n",
       "      <td>900.80</td>\n",
       "      <td>0.84</td>\n",
       "    </tr>\n",
       "    <tr>\n",
       "      <th>5</th>\n",
       "      <td>lastReport</td>\n",
       "      <td>XGBRegressor(base_score=None, booster=None, ca...</td>\n",
       "      <td>{'reg_alpha': 1, 'reg_lambda': 1, 'tree_method...</td>\n",
       "      <td>1466.28</td>\n",
       "      <td>925.23</td>\n",
       "      <td>0.84</td>\n",
       "    </tr>\n",
       "    <tr>\n",
       "      <th>0</th>\n",
       "      <td>stateLOO</td>\n",
       "      <td>DummyRegressor()</td>\n",
       "      <td>{}</td>\n",
       "      <td>4630.31</td>\n",
       "      <td>4040.33</td>\n",
       "      <td>-29.38</td>\n",
       "    </tr>\n",
       "    <tr>\n",
       "      <th>1</th>\n",
       "      <td>stateLOO</td>\n",
       "      <td>LinearRegression()</td>\n",
       "      <td>{}</td>\n",
       "      <td>2255.10</td>\n",
       "      <td>1768.55</td>\n",
       "      <td>-2.37</td>\n",
       "    </tr>\n",
       "    <tr>\n",
       "      <th>2</th>\n",
       "      <td>stateLOO</td>\n",
       "      <td>ElasticNet()</td>\n",
       "      <td>{'alpha': 3600, 'l1_ratio': 0.95}</td>\n",
       "      <td>2444.80</td>\n",
       "      <td>1933.84</td>\n",
       "      <td>-6.70</td>\n",
       "    </tr>\n",
       "    <tr>\n",
       "      <th>3</th>\n",
       "      <td>stateLOO</td>\n",
       "      <td>DecisionTreeRegressor()</td>\n",
       "      <td>{'max_depth': 10, 'min_samples_leaf': 8}</td>\n",
       "      <td>1999.75</td>\n",
       "      <td>1485.87</td>\n",
       "      <td>-0.93</td>\n",
       "    </tr>\n",
       "    <tr>\n",
       "      <th>4</th>\n",
       "      <td>stateLOO</td>\n",
       "      <td>RandomForestRegressor()</td>\n",
       "      <td>{'max_depth': 50, 'min_samples_leaf': 2}</td>\n",
       "      <td>1621.44</td>\n",
       "      <td>1227.17</td>\n",
       "      <td>-0.74</td>\n",
       "    </tr>\n",
       "    <tr>\n",
       "      <th>5</th>\n",
       "      <td>stateLOO</td>\n",
       "      <td>XGBRegressor(base_score=None, booster=None, ca...</td>\n",
       "      <td>{'reg_alpha': 10, 'reg_lambda': 10, 'tree_meth...</td>\n",
       "      <td>1691.55</td>\n",
       "      <td>1284.28</td>\n",
       "      <td>-0.71</td>\n",
       "    </tr>\n",
       "    <tr>\n",
       "      <th>0</th>\n",
       "      <td>countyKFold</td>\n",
       "      <td>DummyRegressor()</td>\n",
       "      <td>{}</td>\n",
       "      <td>4399.24</td>\n",
       "      <td>3554.85</td>\n",
       "      <td>-0.00</td>\n",
       "    </tr>\n",
       "    <tr>\n",
       "      <th>1</th>\n",
       "      <td>countyKFold</td>\n",
       "      <td>LinearRegression()</td>\n",
       "      <td>{}</td>\n",
       "      <td>2002.37</td>\n",
       "      <td>1470.87</td>\n",
       "      <td>0.79</td>\n",
       "    </tr>\n",
       "    <tr>\n",
       "      <th>2</th>\n",
       "      <td>countyKFold</td>\n",
       "      <td>ElasticNet()</td>\n",
       "      <td>{'alpha': 1000, 'l1_ratio': 0.9}</td>\n",
       "      <td>2183.51</td>\n",
       "      <td>1612.81</td>\n",
       "      <td>0.75</td>\n",
       "    </tr>\n",
       "    <tr>\n",
       "      <th>3</th>\n",
       "      <td>countyKFold</td>\n",
       "      <td>DecisionTreeRegressor()</td>\n",
       "      <td>{'max_depth': 10, 'min_samples_leaf': 10}</td>\n",
       "      <td>1750.86</td>\n",
       "      <td>1164.95</td>\n",
       "      <td>0.84</td>\n",
       "    </tr>\n",
       "    <tr>\n",
       "      <th>4</th>\n",
       "      <td>countyKFold</td>\n",
       "      <td>RandomForestRegressor()</td>\n",
       "      <td>{'max_depth': None, 'min_samples_leaf': 2}</td>\n",
       "      <td>1425.77</td>\n",
       "      <td>937.23</td>\n",
       "      <td>0.89</td>\n",
       "    </tr>\n",
       "    <tr>\n",
       "      <th>5</th>\n",
       "      <td>countyKFold</td>\n",
       "      <td>XGBRegressor(base_score=None, booster=None, ca...</td>\n",
       "      <td>{'reg_alpha': 0.1, 'reg_lambda': 90, 'tree_met...</td>\n",
       "      <td>1478.04</td>\n",
       "      <td>983.17</td>\n",
       "      <td>0.89</td>\n",
       "    </tr>\n",
       "  </tbody>\n",
       "</table>\n",
       "</div>"
      ],
      "text/plain": [
       "         split                                              model  \\\n",
       "0   lastReport                                   DummyRegressor()   \n",
       "1   lastReport                                 LinearRegression()   \n",
       "2   lastReport                                       ElasticNet()   \n",
       "3   lastReport                            DecisionTreeRegressor()   \n",
       "4   lastReport                            RandomForestRegressor()   \n",
       "5   lastReport  XGBRegressor(base_score=None, booster=None, ca...   \n",
       "0     stateLOO                                   DummyRegressor()   \n",
       "1     stateLOO                                 LinearRegression()   \n",
       "2     stateLOO                                       ElasticNet()   \n",
       "3     stateLOO                            DecisionTreeRegressor()   \n",
       "4     stateLOO                            RandomForestRegressor()   \n",
       "5     stateLOO  XGBRegressor(base_score=None, booster=None, ca...   \n",
       "0  countyKFold                                   DummyRegressor()   \n",
       "1  countyKFold                                 LinearRegression()   \n",
       "2  countyKFold                                       ElasticNet()   \n",
       "3  countyKFold                            DecisionTreeRegressor()   \n",
       "4  countyKFold                            RandomForestRegressor()   \n",
       "5  countyKFold  XGBRegressor(base_score=None, booster=None, ca...   \n",
       "\n",
       "                                              params     rmse      mae   r_sq  \n",
       "0                                                 {}  3880.42  3234.15  -0.19  \n",
       "1                                                 {}  1874.07  1397.22   0.73  \n",
       "2                   {'alpha': 1000, 'l1_ratio': 0.9}  2006.74  1513.82   0.69  \n",
       "3           {'max_depth': 9, 'min_samples_leaf': 10}  1773.12  1113.92   0.77  \n",
       "4         {'max_depth': None, 'min_samples_leaf': 1}  1474.71   900.80   0.84  \n",
       "5  {'reg_alpha': 1, 'reg_lambda': 1, 'tree_method...  1466.28   925.23   0.84  \n",
       "0                                                 {}  4630.31  4040.33 -29.38  \n",
       "1                                                 {}  2255.10  1768.55  -2.37  \n",
       "2                  {'alpha': 3600, 'l1_ratio': 0.95}  2444.80  1933.84  -6.70  \n",
       "3           {'max_depth': 10, 'min_samples_leaf': 8}  1999.75  1485.87  -0.93  \n",
       "4           {'max_depth': 50, 'min_samples_leaf': 2}  1621.44  1227.17  -0.74  \n",
       "5  {'reg_alpha': 10, 'reg_lambda': 10, 'tree_meth...  1691.55  1284.28  -0.71  \n",
       "0                                                 {}  4399.24  3554.85  -0.00  \n",
       "1                                                 {}  2002.37  1470.87   0.79  \n",
       "2                   {'alpha': 1000, 'l1_ratio': 0.9}  2183.51  1612.81   0.75  \n",
       "3          {'max_depth': 10, 'min_samples_leaf': 10}  1750.86  1164.95   0.84  \n",
       "4         {'max_depth': None, 'min_samples_leaf': 2}  1425.77   937.23   0.89  \n",
       "5  {'reg_alpha': 0.1, 'reg_lambda': 90, 'tree_met...  1478.04   983.17   0.89  "
      ]
     },
     "execution_count": 90,
     "metadata": {},
     "output_type": "execute_result"
    }
   ],
   "source": [
    "# read in all results and summarize\n",
    "results_min = pd.DataFrame()\n",
    "for name in ['countyKFold', 'stateLOO', 'lastReport']:\n",
    "    m = pd.read_csv(RESULTS_PATH / f'cv_min_{name}.csv')\n",
    "    m.loc[:, 'split'] = name\n",
    "    order_cols = ['split', 'model', 'params']\n",
    "    new_col_order = order_cols + m.columns.drop(order_cols).tolist()\n",
    "    m = m[new_col_order]\n",
    "    results_min = pd.concat((m, results_min))\n",
    "    \n",
    "results_min.round(2)"
   ]
  },
  {
   "cell_type": "markdown",
   "id": "05c8b7ed-35a5-418b-ba53-70a5512eedd3",
   "metadata": {},
   "source": [
    "# Analyze performance on test set"
   ]
  },
  {
   "cell_type": "code",
   "execution_count": 109,
   "id": "deff22fd-6c2e-4507-95bf-dd8a69c275be",
   "metadata": {},
   "outputs": [],
   "source": [
    "# make predictions on test set\n",
    "final_params = params_xgb\n",
    "final_model = XGBRegressor(objective=\"reg:squarederror\")\n",
    "# final_params = params_rf\n",
    "# final_model = RandomForestRegressor()\n",
    "final_params = {k:i[0] for k, i in final_params.items()}\n",
    "final_model.set_params(**final_params)\n",
    "\n",
    "final_model.fit(X_train, y_train)\n",
    "y_test_pred = final_model.predict(X_test)\n",
    "\n",
    "# calculate error\n",
    "error = y_test_pred - y_test\n",
    "error_rel = error / y_test * 100"
   ]
  },
  {
   "cell_type": "markdown",
   "id": "99aedb9b-c997-4e8a-ab25-5908e9707331",
   "metadata": {},
   "source": [
    "## True vs. predicted"
   ]
  },
  {
   "cell_type": "code",
   "execution_count": 110,
   "id": "112b2ba9-e2a1-49a0-8b15-21ffaf6ae9c1",
   "metadata": {},
   "outputs": [
    {
     "name": "stdout",
     "output_type": "stream",
     "text": [
      "{'RMSE': 1136.3189652554352, 'MAE': 822.151585373449, 'R^2': 0.9166687591444893}\n"
     ]
    }
   ],
   "source": [
    "# calculate metrics\n",
    "final_scores = {}\n",
    "final_scores['RMSE'] = np.sqrt(mean_squared_error(y_test, y_test_pred))\n",
    "final_scores['MAE'] = mean_absolute_error(y_test, y_test_pred)\n",
    "final_scores['R^2'] = r2_score(y_test, y_test_pred)\n",
    "print(final_scores)"
   ]
  },
  {
   "cell_type": "code",
   "execution_count": 111,
   "id": "86ee3e75-8088-4e59-af55-0ef3c976e149",
   "metadata": {},
   "outputs": [
    {
     "data": {
      "image/png": "[encoded data removed]",
      "text/plain": [
       "<Figure size 576x360 with 1 Axes>"
      ]
     },
     "metadata": {
      "needs_background": "light"
     },
     "output_type": "display_data"
    }
   ],
   "source": [
    "# plot predictions against actuals\n",
    "fig, ax = plt.subplots(figsize=(8, 5))\n",
    "plt.scatter(x=y_test_pred, y=y_test, alpha=0.7)\n",
    "\n",
    "# compute slope m and intercept b\n",
    "m, b = np.polyfit(y_test_pred, y_test, deg=1)\n",
    "# plot fitted y = m*x + b\n",
    "plt.axline(xy1=(0, b), slope=m, color='r', label=f'$y = {m:.2f}x {b:+.2f}$')\n",
    "\n",
    "plt.legend()\n",
    "plt.xlabel('predicted')\n",
    "plt.ylabel('true')\n",
    "newline = ','\n",
    "plt.title(f'True vs. predicted forest biomass (short tons / km2)\\n {\", \".join(f\"{k}: {final_scores[k]:0.2f}\" for k in final_scores.keys())}')\n",
    "plt.show()"
   ]
  },
  {
   "cell_type": "markdown",
   "id": "8136bdcf-36ee-4b47-9167-128e1a90f5a4",
   "metadata": {},
   "source": [
    "## Visualize errors"
   ]
  },
  {
   "cell_type": "code",
   "execution_count": 94,
   "id": "c2778566-d78c-4be7-bdec-f724f30a8714",
   "metadata": {},
   "outputs": [],
   "source": [
    "# create columns and merge onto county data\n",
    "drop_pctl = 10\n",
    "error_rel_trim = error_rel\n",
    "error_rel_trim[(error_rel < np.percentile(error_rel, drop_pctl)) | (error_rel > np.percentile(error_rel, 100 - drop_pctl))] = np.nan\n",
    "\n",
    "fips_test = df_test.loc[:,['fips']]\n",
    "fips_test.loc[:, 'y_pred_error'] = error\n",
    "fips_test.loc[:, 'y_pred_error_rel'] = error_rel_trim\n",
    "\n",
    "c_filepath = str(DATA_PATH / 'county_shapefiles/cb_2018_us_county_5m.shp')\n",
    "counties = gpd.read_file(c_filepath).to_crs(GEO_CRS)\n",
    "counties.columns = counties.columns.str.lower()\n",
    "counties.loc[:, 'fips'] = (counties.statefp + counties.countyfp).astype(int)\n",
    "# drop non-contiguous us regions\n",
    "counties = counties.loc[~counties.statefp.isin(['02', '15', '60', '66', '72', '69', '78'])]\n",
    "\n",
    "# merge on FS data\n",
    "county_fs = counties.merge(right=fips_test, how='right', on='fips')"
   ]
  },
  {
   "cell_type": "code",
   "execution_count": 95,
   "id": "93bcaf57-92e7-45f8-bf5b-790d15286734",
   "metadata": {},
   "outputs": [
    {
     "data": {
      "image/png": "[encoded data removed]",
      "text/plain": [
       "<Figure size 720x360 with 2 Axes>"
      ]
     },
     "metadata": {
      "needs_background": "light"
     },
     "output_type": "display_data"
    }
   ],
   "source": [
    "# plot\n",
    "title = f'Relative error (%)\\n(dropping top and bottom {drop_pctl}th pctls)'\n",
    "gdf = county_fs\n",
    "value_col = 'y_pred_error_rel'\n",
    "\n",
    "fig, ax = plt.subplots(figsize=(10, 5))\n",
    "counties.plot(ax=ax, color='grey', alpha=0.2)\n",
    "gdf.plot(ax=ax, column=value_col, legend=True, legend_kwds={'shrink': 0.8}, cmap='Spectral') # https://matplotlib.org/2.0.2/users/colormaps.html\n",
    "ax.get_yaxis().set_visible(False)\n",
    "ax.get_xaxis().set_visible(False)\n",
    "plt.title(title)\n",
    "plt.show()"
   ]
  },
  {
   "cell_type": "markdown",
   "id": "c6dbe378-6ab5-45c9-bcc2-8be9ce25dd69",
   "metadata": {},
   "source": [
    "## Overall sample test"
   ]
  },
  {
   "cell_type": "code",
   "execution_count": 99,
   "id": "adea003f-ccbd-4398-bdd6-b33f7422f73b",
   "metadata": {},
   "outputs": [
    {
     "name": "stdout",
     "output_type": "stream",
     "text": [
      "{'Levene equal variance': 0.0, 'Paired t-test': 0.0, 'Signed rank test': 0.0}\n"
     ]
    }
   ],
   "source": [
    "stats = {}\n",
    "# Country-level prediction\n",
    "true_cbiomass = y_test.mean()\n",
    "true_cbiomass_var = y_test.var()\n",
    "pred_cbiomass = y_test_pred.mean()\n",
    "pred_cbiomass_var = y_test_pred.var()\n",
    "\n",
    "stat, pvalue = sps.levene(y_test, y_test_pred)\n",
    "stats['Levene equal variance'] = np.round(pvalue, 4)\n",
    "\n",
    "# Paired t-test\n",
    "stat, pvalue = sps.ttest_rel(y_test, y_test_pred)\n",
    "stats['Paired t-test'] = np.round(pvalue, 4)\n",
    "\n",
    "# Signed rank test\n",
    "stat, pvalue = sps.wilcoxon(y_test, y_test_pred)\n",
    "stats['Signed rank test'] = np.round(pvalue, 4)\n",
    "\n",
    "print(stats)"
   ]
  },
  {
   "cell_type": "code",
   "execution_count": null,
   "id": "bdbb37a8-4d24-4b24-9e12-14717786345b",
   "metadata": {},
   "outputs": [],
   "source": []
  }
 ],
 "metadata": {
  "kernelspec": {
   "display_name": "forest-biomass-modeling",
   "language": "python",
   "name": "forest-biomass-modeling"
  },
  "language_info": {
   "codemirror_mode": {
    "name": "ipython",
    "version": 3
   },
   "file_extension": ".py",
   "mimetype": "text/x-python",
   "name": "python",
   "nbconvert_exporter": "python",
   "pygments_lexer": "ipython3",
   "version": "3.9.12"
  }
 },
 "nbformat": 4,
 "nbformat_minor": 5
}
