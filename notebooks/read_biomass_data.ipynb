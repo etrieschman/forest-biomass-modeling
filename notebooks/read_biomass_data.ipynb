{
 "cells": [
  {
   "cell_type": "code",
   "execution_count": 38,
   "id": "734ff721-8b79-4fe7-94fa-08c4cbb9851d",
   "metadata": {},
   "outputs": [],
   "source": [
    "from pathlib import Path\n",
    "from tqdm import tqdm\n",
    "import pandas as pd\n",
    "import numpy as np\n",
    "import matplotlib as matplotlib\n",
    "import matplotlib.pyplot as plt\n",
    "import os\n",
    "# import datetime as dt\n",
    "# from shapely import wkt\n",
    "# from shapely.geometry import Point, Polygon\n",
    "# import geopandas as gpd\n",
    "\n",
    "pd.options.mode.chained_assignment = None  # default='warn'\n"
   ]
  },
  {
   "cell_type": "code",
   "execution_count": 3,
   "id": "fa43c67c-0799-4c32-904b-472594368cd5",
   "metadata": {},
   "outputs": [],
   "source": [
    "from import_functions import readin_fis_biomass\n",
    "# And change jupyter settings to auto-reload these functions before each instance running them\n",
    "%load_ext autoreload\n",
    "%autoreload 2"
   ]
  },
  {
   "cell_type": "code",
   "execution_count": 4,
   "id": "03de42ef-726a-43dd-8fd8-e755f55f4df6",
   "metadata": {},
   "outputs": [],
   "source": [
    "repo_path = Path('/Users/etriesch/dev/forest-biomass-modeling/')\n",
    "data_path = repo_path / 'data/'\n",
    "data_clean_path = repo_path / 'data/clean/'\n",
    "geo_crs = 'epsg:4326'\n",
    "proj_crs = '+proj=cea'"
   ]
  },
  {
   "cell_type": "markdown",
   "id": "f7b9a41d-c3c3-460d-9d79-0a3c8f4edb60",
   "metadata": {},
   "source": [
    "# read in report to year mapping"
   ]
  },
  {
   "cell_type": "code",
   "execution_count": 18,
   "id": "0ad7cfa2-c778-40d3-8ca0-97d663940b25",
   "metadata": {},
   "outputs": [],
   "source": [
    "filepath = data_path / 'biomass/fis_biomass_reportlabels.csv'\n",
    "labs = pd.read_csv(filepath)\n",
    "labs = labs.loc[labs.label_part1 == 'CURRENT',]\n",
    "labs.loc[:,'report'] = labs.report.astype(int)\n",
    "labs = labs.loc[:,('report', 'state', 'year_start', 'year_end')]"
   ]
  },
  {
   "cell_type": "markdown",
   "id": "4fef8838-509d-4d5b-935a-1a6494984fdb",
   "metadata": {},
   "source": [
    "# read biomass data"
   ]
  },
  {
   "cell_type": "code",
   "execution_count": 9,
   "id": "6f1c998c-a9f6-4bad-b9b6-31930f9ddc0e",
   "metadata": {},
   "outputs": [
    {
     "name": "stdout",
     "output_type": "stream",
     "text": [
      "files to read: 6\n"
     ]
    }
   ],
   "source": [
    "# get filenames\n",
    "path = data_path / 'biomass'\n",
    "files = [f for f in os.listdir(path) \n",
    "           if f.endswith('.xml')]\n",
    "files.sort()\n",
    "print('files to read:', len(files))"
   ]
  },
  {
   "cell_type": "code",
   "execution_count": 10,
   "id": "fa143129-519b-4aaa-9065-9450d3cc3486",
   "metadata": {},
   "outputs": [
    {
     "name": "stderr",
     "output_type": "stream",
     "text": [
      "100%|█████████████████████████████████████████████| 6/6 [00:18<00:00,  3.12s/it]\n"
     ]
    }
   ],
   "source": [
    "biodf_raw = pd.DataFrame()\n",
    "for f in tqdm(files):\n",
    "    filepath = str(data_path/'biomass'/ f)\n",
    "    chunk = readin_fis_biomass(filepath)\n",
    "    biodf_raw = pd.concat([chunk, biodf_raw])"
   ]
  },
  {
   "cell_type": "markdown",
   "id": "564a1daf-dde7-41a0-be11-3e702139e51f",
   "metadata": {},
   "source": [
    "# merge, clean, and save"
   ]
  },
  {
   "cell_type": "code",
   "execution_count": 39,
   "id": "9c908f94-a4f9-4c42-80c8-35c2a1fea9f1",
   "metadata": {},
   "outputs": [],
   "source": [
    "biodf = biodf_raw.loc[biodf_raw.r0 != 'COL_SUBTOTAL']\n",
    "biodf['report'] = biodf.r0.astype(int)\n",
    "biodf = pd.merge(biodf, labs, how='left', on='report')"
   ]
  },
  {
   "cell_type": "code",
   "execution_count": 40,
   "id": "d20773d2-1075-4296-b8d0-ffa2605e4ca5",
   "metadata": {},
   "outputs": [],
   "source": [
    "cols_to_float = ['total', 'variance', 'sampling_error',\n",
    "       'sampling_error_percent', 'total_plots', 'domain_plots',\n",
    "       'non_zero_plots']\n",
    "biodf[cols_to_float] = biodf[cols_to_float].astype(float)"
   ]
  },
  {
   "cell_type": "code",
   "execution_count": 41,
   "id": "a1e17a66-0764-4354-bdb1-2effdb144800",
   "metadata": {},
   "outputs": [],
   "source": [
    "# overall\n",
    "filename = 'biomass_cln.csv'\n",
    "filepath = data_clean_path / filename\n",
    "filepath.parent.mkdir(parents=True, exist_ok=True)\n",
    "biodf.to_csv(filepath, index=False)"
   ]
  },
  {
   "cell_type": "code",
   "execution_count": null,
   "id": "66d0ecdb-965b-4edb-93cd-d573421158f3",
   "metadata": {},
   "outputs": [],
   "source": []
  }
 ],
 "metadata": {
  "kernelspec": {
   "display_name": "forest-biomass-modeling",
   "language": "python",
   "name": "forest-biomass-modeling"
  },
  "language_info": {
   "codemirror_mode": {
    "name": "ipython",
    "version": 3
   },
   "file_extension": ".py",
   "mimetype": "text/x-python",
   "name": "python",
   "nbconvert_exporter": "python",
   "pygments_lexer": "ipython3",
   "version": "3.9.12"
  }
 },
 "nbformat": 4,
 "nbformat_minor": 5
}
