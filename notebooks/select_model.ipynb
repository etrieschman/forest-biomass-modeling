{
 "cells": [
  {
   "cell_type": "code",
   "execution_count": 1,
   "id": "fd19e7bd-bffc-40e1-b3be-88f82cafcd56",
   "metadata": {},
   "outputs": [],
   "source": [
    "from pathlib import Path\n",
    "import pandas as pd\n",
    "import numpy as np\n",
    "import matplotlib as matplotlib\n",
    "import matplotlib.pyplot as plt\n",
    "\n",
    "import statsmodels.api as sm\n",
    "\n",
    "from sklearn.preprocessing import StandardScaler\n",
    "from sklearn.model_selection import ShuffleSplit, GroupKFold, cross_validate, GridSearchCV\n",
    "from sklearn.linear_model import LinearRegression, Lasso, lasso_path\n",
    "from sklearn.dummy import DummyRegressor\n",
    "from sklearn.tree import DecisionTreeRegressor\n",
    "from sklearn.ensemble import AdaBoostRegressor, RandomForestRegressor\n",
    "\n",
    "from xgboost import XGBRegressor\n",
    "\n",
    "pd.options.mode.chained_assignment = None  # default='warn'\n",
    "%load_ext autoreload\n",
    "%autoreload 2"
   ]
  },
  {
   "cell_type": "code",
   "execution_count": 2,
   "id": "eb54efd8-c3bb-4e28-8ec3-abbb85926de2",
   "metadata": {},
   "outputs": [],
   "source": [
    "from utils import REPO_PATH, DATA_PATH, DATA_CLEAN_PATH\n",
    "from utils import set_plt_settings\n",
    "from train_functions import scoring, run_cv\n",
    "\n",
    "set_plt_settings()"
   ]
  },
  {
   "cell_type": "markdown",
   "id": "84c3daca-c29e-44a6-966e-a7d8623e769c",
   "metadata": {},
   "source": [
    "## Make analytic datasets"
   ]
  },
  {
   "cell_type": "code",
   "execution_count": 3,
   "id": "6bf69d99-621c-41de-8688-56525d499ace",
   "metadata": {},
   "outputs": [],
   "source": [
    "# read in\n",
    "df = pd.read_csv(DATA_CLEAN_PATH / 'analysis_df.csv')\n",
    "\n",
    "# make target and features\n",
    "X = df.loc[:, [col for col in df.columns if col.startswith(('ndvi', 'lst'))]]\n",
    "y = (df.total / df.area_km).to_numpy() # short tons per km^2\n",
    "g_state = df.statefp\n",
    "\n",
    "# scale features\n",
    "scaler = StandardScaler(copy=True, with_mean=True, with_std=True)\n",
    "scaler.fit(X)\n",
    "X_scaled = pd.DataFrame(scaler.transform(X), columns=X.columns)"
   ]
  },
  {
   "cell_type": "markdown",
   "id": "e27deb54-b6fb-4070-ad5e-d95635db8bb8",
   "metadata": {},
   "source": [
    "## Split data into train and test"
   ]
  },
  {
   "cell_type": "code",
   "execution_count": null,
   "id": "0ab82e30-8292-4432-87fd-e47be4c79748",
   "metadata": {},
   "outputs": [],
   "source": [
    "X_train, X_test, y_train, y_test = train_test_split(\n",
    "    X, y, test_size=0.10, random_state=1, shuffle=True, stratify=None)"
   ]
  },
  {
   "cell_type": "markdown",
   "id": "1185c978-a3d9-46d1-9416-65a33468241a",
   "metadata": {},
   "source": [
    "## Cross validate contending models"
   ]
  },
  {
   "cell_type": "code",
   "execution_count": 4,
   "id": "04b1fe6e-b7d5-4342-8ecd-691f0d2b2dc2",
   "metadata": {},
   "outputs": [
    {
     "data": {
      "text/plain": [
       "model                          DummyRegressor()\n",
       "params                                       {}\n",
       "neg_root_mean_squared_error        -4382.952289\n",
       "mean_test_r_squared                   -0.001913\n",
       "Name: 0, dtype: object"
      ]
     },
     "execution_count": 4,
     "metadata": {},
     "output_type": "execute_result"
    }
   ],
   "source": [
    "# dummy regressor\n",
    "params={}\n",
    "cv_mean, cv_mean_min = run_cv(X=X_scaled, y=y, estimator=DummyRegressor(), params=params, scoring=scoring)\n",
    "cv_mean_min"
   ]
  },
  {
   "cell_type": "code",
   "execution_count": 5,
   "id": "69487da3-c2a6-40e9-9e40-dd81d0f2db2f",
   "metadata": {},
   "outputs": [
    {
     "data": {
      "text/plain": [
       "model                          LinearRegression()\n",
       "params                                         {}\n",
       "neg_root_mean_squared_error            -1989.4228\n",
       "mean_test_r_squared                      0.793126\n",
       "Name: 0, dtype: object"
      ]
     },
     "execution_count": 5,
     "metadata": {},
     "output_type": "execute_result"
    }
   ],
   "source": [
    "# linear regression\n",
    "params={}\n",
    "cv_lm, cv_lm_min = run_cv(X=X_scaled, y=y, estimator=LinearRegression(), params=params, scoring=scoring)\n",
    "cv_lm_min"
   ]
  },
  {
   "cell_type": "code",
   "execution_count": 6,
   "id": "bb896ced-2c49-45c1-ab89-a3f17e3ac201",
   "metadata": {},
   "outputs": [
    {
     "data": {
      "text/plain": [
       "model                                Lasso()\n",
       "params                         {'alpha': 10}\n",
       "neg_root_mean_squared_error     -2013.503508\n",
       "mean_test_r_squared                 0.788329\n",
       "Name: 0, dtype: object"
      ]
     },
     "execution_count": 6,
     "metadata": {},
     "output_type": "execute_result"
    }
   ],
   "source": [
    "# lasso regression\n",
    "params={'alpha':[j*(10**i) for i in range(1,3) for j in range(1, 9)]}\n",
    "cv_lasso, cv_lasso_min = run_cv(X=X_scaled, y=y, estimator=Lasso(), params=params, scoring=scoring)\n",
    "cv_lasso_min"
   ]
  },
  {
   "cell_type": "code",
   "execution_count": 7,
   "id": "d6b9e185-9984-47c8-a1c1-c017b5cd19b2",
   "metadata": {},
   "outputs": [
    {
     "data": {
      "text/plain": [
       "model                                            DecisionTreeRegressor()\n",
       "params                         {'max_depth': 10, 'min_samples_leaf': 10}\n",
       "neg_root_mean_squared_error                                 -1708.643698\n",
       "mean_test_r_squared                                             0.847266\n",
       "Name: 17, dtype: object"
      ]
     },
     "execution_count": 7,
     "metadata": {},
     "output_type": "execute_result"
    }
   ],
   "source": [
    "# decision tree regression\n",
    "params={'min_samples_leaf': [1, 5, 10, 50, 100], 'max_depth': [None, 100, 50, 10, 5]}\n",
    "cv_dt, cv_dt_min = run_cv(X=X_scaled, y=y, estimator=DecisionTreeRegressor(), params=params, scoring=scoring)\n",
    "cv_dt_min"
   ]
  },
  {
   "cell_type": "code",
   "execution_count": 8,
   "id": "b118f6dd-5c3f-42da-ac4e-c5d5a231edf2",
   "metadata": {
    "tags": []
   },
   "outputs": [
    {
     "name": "stderr",
     "output_type": "stream",
     "text": [
      "\n",
      "KeyboardInterrupt\n",
      "\n"
     ]
    }
   ],
   "source": [
    "# random forest regression\n",
    "params={'min_samples_leaf': [1, 5, 10, 50, 100], 'max_depth': [None, 100, 50, 10, 5]}\n",
    "# params={'min_samples_leaf': [3, 5, 7], 'max_depth': [200, 150, 100]} #7, 100\n",
    "# params={'min_samples_leaf': [6, 7, 8], 'max_depth': [90, 100, 110]}\n",
    "cv_rf, cv_rf_min = run_cv(X=X_scaled, y=y, estimator=RandomForestRegressor(), params=params, scoring=scoring)\n",
    "cv_rf_min"
   ]
  },
  {
   "cell_type": "code",
   "execution_count": null,
   "id": "46ed0455-72c1-4339-916a-07873056c163",
   "metadata": {},
   "outputs": [],
   "source": [
    "# xgboost regression\n",
    "params={'reg_alpha':[.01, .1, 1, 10, 100], 'reg_lambda':[0.1, .1, 1, 10, 100],\n",
    "        'tree_method':['approx', 'hist']}\n",
    "cv_xgb, cv_xgb_min = run_cv(X=X_scaled, y=y, estimator=XGBRegressor(objective=\"reg:squarederror\"), params=params, scoring=scoring)\n",
    "cv_xgb_min"
   ]
  },
  {
   "cell_type": "code",
   "execution_count": null,
   "id": "6a1e27bc-d155-4617-8758-f618cd1c335a",
   "metadata": {},
   "outputs": [],
   "source": [
    "cv = pd.DataFrame((cv_mean_min, cv_lm_min, cv_lasso_min, cv_dt_min, cv_rf_min, cv_xgb_min))\n",
    "cv"
   ]
  },
  {
   "cell_type": "code",
   "execution_count": null,
   "id": "a2d46844-f44d-4f0c-803e-bc991a54b9af",
   "metadata": {},
   "outputs": [],
   "source": []
  }
 ],
 "metadata": {
  "kernelspec": {
   "display_name": "forest-biomass-modeling",
   "language": "python",
   "name": "forest-biomass-modeling"
  },
  "language_info": {
   "codemirror_mode": {
    "name": "ipython",
    "version": 3
   },
   "file_extension": ".py",
   "mimetype": "text/x-python",
   "name": "python",
   "nbconvert_exporter": "python",
   "pygments_lexer": "ipython3",
   "version": "3.9.12"
  }
 },
 "nbformat": 4,
 "nbformat_minor": 5
}
