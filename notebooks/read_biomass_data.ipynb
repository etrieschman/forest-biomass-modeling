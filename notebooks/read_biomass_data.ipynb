{
 "cells": [
  {
   "cell_type": "code",
   "execution_count": 1,
   "id": "734ff721-8b79-4fe7-94fa-08c4cbb9851d",
   "metadata": {},
   "outputs": [],
   "source": [
    "from pathlib import Path\n",
    "from tqdm import tqdm\n",
    "import pandas as pd\n",
    "import numpy as np\n",
    "import matplotlib as matplotlib\n",
    "import matplotlib.pyplot as plt\n",
    "import os\n",
    "import datetime as dt\n",
    "from shapely import wkt\n",
    "from shapely.geometry import Point, Polygon\n",
    "import geopandas as gpd\n"
   ]
  },
  {
   "cell_type": "code",
   "execution_count": 9,
   "id": "fa43c67c-0799-4c32-904b-472594368cd5",
   "metadata": {},
   "outputs": [
    {
     "name": "stdout",
     "output_type": "stream",
     "text": [
      "The autoreload extension is already loaded. To reload it, use:\n",
      "  %reload_ext autoreload\n"
     ]
    }
   ],
   "source": [
    "from import_functions import readin_fis_biomass\n",
    "# And change jupyter settings to auto-reload these functions before each instance running them\n",
    "%load_ext autoreload\n",
    "%autoreload 2"
   ]
  },
  {
   "cell_type": "code",
   "execution_count": 10,
   "id": "03de42ef-726a-43dd-8fd8-e755f55f4df6",
   "metadata": {},
   "outputs": [],
   "source": [
    "repo_path = Path('/Users/etriesch/dev/forest-biomass-modeling/')\n",
    "data_path = repo_path / 'data/'\n",
    "data_clean_path = repo_path / 'data/clean/'\n",
    "geo_crs = 'epsg:4326'\n",
    "proj_crs = '+proj=cea'"
   ]
  },
  {
   "cell_type": "markdown",
   "id": "f7b9a41d-c3c3-460d-9d79-0a3c8f4edb60",
   "metadata": {},
   "source": [
    "# read in report to year mapping"
   ]
  },
  {
   "cell_type": "markdown",
   "id": "4fef8838-509d-4d5b-935a-1a6494984fdb",
   "metadata": {},
   "source": [
    "# read biomass data"
   ]
  },
  {
   "cell_type": "code",
   "execution_count": 25,
   "id": "6f1c998c-a9f6-4bad-b9b6-31930f9ddc0e",
   "metadata": {},
   "outputs": [
    {
     "name": "stdout",
     "output_type": "stream",
     "text": [
      "files to read: 6\n"
     ]
    }
   ],
   "source": [
    "# get filenames\n",
    "path = data_path / 'biomass'\n",
    "files = [f for f in os.listdir(path) \n",
    "           if f.endswith('.xml')]\n",
    "files.sort()\n",
    "print('files to read:', len(files))"
   ]
  },
  {
   "cell_type": "code",
   "execution_count": 29,
   "id": "fa143129-519b-4aaa-9065-9450d3cc3486",
   "metadata": {},
   "outputs": [
    {
     "name": "stderr",
     "output_type": "stream",
     "text": [
      "100%|█████████████████████████████████████████████| 6/6 [00:12<00:00,  2.16s/it]"
     ]
    },
    {
     "name": "stdout",
     "output_type": "stream",
     "text": [
      "could not load file, /Users/etriesch/dev/forest-biomass-modeling/data/biomass/pa_to_wy.xml\n"
     ]
    },
    {
     "name": "stderr",
     "output_type": "stream",
     "text": [
      "\n"
     ]
    }
   ],
   "source": [
    "biodf_raw = pd.DataFrame()\n",
    "for f in tqdm(files):\n",
    "    filepath = str(data_path/'biomass'/ f)\n",
    "    chunk = readin_fis_biomass(filepath)\n",
    "    biodf_raw = pd.concat([chunk, biodf_raw])"
   ]
  },
  {
   "cell_type": "code",
   "execution_count": 28,
   "id": "8abbd403-3cbc-4e0f-bad5-840c097a25bc",
   "metadata": {},
   "outputs": [
    {
     "data": {
      "text/plain": [
       "(8433, 11)"
      ]
     },
     "execution_count": 28,
     "metadata": {},
     "output_type": "execute_result"
    }
   ],
   "source": [
    "biodf_raw.shape"
   ]
  }
 ],
 "metadata": {
  "kernelspec": {
   "display_name": "forest-biomass-modeling",
   "language": "python",
   "name": "forest-biomass-modeling"
  },
  "language_info": {
   "codemirror_mode": {
    "name": "ipython",
    "version": 3
   },
   "file_extension": ".py",
   "mimetype": "text/x-python",
   "name": "python",
   "nbconvert_exporter": "python",
   "pygments_lexer": "ipython3",
   "version": "3.9.12"
  }
 },
 "nbformat": 4,
 "nbformat_minor": 5
}
